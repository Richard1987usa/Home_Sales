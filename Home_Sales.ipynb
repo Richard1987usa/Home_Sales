{
 "cells": [
  {
   "cell_type": "code",
   "execution_count": null,
   "metadata": {},
   "outputs": [],
   "source": [
    "# Import findspark and initialize. \n",
    "import findspark\n",
    "findspark.init()"
   ]
  },
  {
   "cell_type": "code",
   "execution_count": null,
   "metadata": {},
   "outputs": [],
   "source": [
    "# Import packages\n",
    "from pyspark.sql import SparkSession\n",
    "import time\n",
    "\n",
    "# Create a SparkSession\n",
    "spark = SparkSession.builder.appName(\"SparkSQL\").getOrCreate()\n"
   ]
  },
  {
   "cell_type": "code",
   "execution_count": null,
   "metadata": {},
   "outputs": [],
   "source": [
    "# 1. Read in the AWS S3 bucket into a DataFrame.\n",
    "from pyspark import SparkFiles\n",
    "url = \"https://2u-data-curriculum-team.s3.amazonaws.com/dataviz-classroom/v1.2/22-big-data/home_sales_revised.csv\"\n",
    "spark.sparkContext.addFile(url)\n",
    "df = spark.read.csv(SparkFiles.get(\"home_sales_revised.csv\"), sep=\",\", header=True)\n"
   ]
  },
  {
   "cell_type": "code",
   "execution_count": null,
   "metadata": {},
   "outputs": [],
   "source": [
    "df.head()"
   ]
  },
  {
   "cell_type": "code",
   "execution_count": null,
   "metadata": {},
   "outputs": [],
   "source": [
    "# 2. Create a temporary view of the DataFrame.\n",
    "df.createOrReplaceTempView('home_sales')\n",
    "start_time = time.time()\n",
    "\n",
    "print((time.time()-start_time))"
   ]
  },
  {
   "cell_type": "code",
   "execution_count": null,
   "metadata": {},
   "outputs": [],
   "source": [
    "# 3. What is the average price for a four bedroom house sold per year, rounded to two decimal places?\n",
    "query = spark.sql(\"\"\"SELECT\n",
    "                        YEAR(date) AS year,\n",
    "                        ROUND(AVG(price),2) AS avg_price\n",
    "                     From\n",
    "                         home_sales\n",
    "                     Where\n",
    "                         bedrooms = 4\n",
    "                     GROUP BY\n",
    "                         year\n",
    "                     ORDER BY\n",
    "                         year\"\"\")\n",
    "\n",
    "query.show()"
   ]
  },
  {
   "cell_type": "code",
   "execution_count": null,
   "metadata": {},
   "outputs": [],
   "source": [
    "# 4. What is the average price of a home for each year the home was built,\n",
    "# that have 3 bedrooms and 3 bathrooms, rounded to two decimal places?\n",
    "query2 = spark.sql(\"\"\"SELECT\n",
    "                        YEAR(date_built) AS year,\n",
    "                        ROUND(AVG(price),2) AS avg_price\n",
    "                     From\n",
    "                         home_sales\n",
    "                     Where\n",
    "                         bedrooms = 3\n",
    "                         AND bathrooms = 3\n",
    "                     GROUP BY\n",
    "                         year\n",
    "                     ORDER BY\n",
    "                         year\"\"\")\n",
    "\n",
    "query2.show()"
   ]
  },
  {
   "cell_type": "code",
   "execution_count": null,
   "metadata": {},
   "outputs": [],
   "source": [
    "# 5. What is the average price of a home for each year the home was built,\n",
    "# that have 3 bedrooms, 3 bathrooms, with two floors,\n",
    "# and are greater than or equal to 2,000 square feet, rounded to two decimal places?\n",
    "query3 = spark.sql(\"\"\"SELECT\n",
    "                        YEAR(date_built) AS year,\n",
    "                        ROUND(AVG(price),2) AS avg_price\n",
    "                     From\n",
    "                         home_sales\n",
    "                     Where\n",
    "                         bedrooms = 3\n",
    "                         AND bathrooms = 3\n",
    "                         AND floors = 2\n",
    "                         AND sqft_living >= 2000\n",
    "                     GROUP BY\n",
    "                         year\n",
    "                     ORDER BY\n",
    "                         year\"\"\")\n",
    "\n",
    "query3.show()"
   ]
  },
  {
   "cell_type": "code",
   "execution_count": null,
   "metadata": {},
   "outputs": [],
   "source": [
    "# 6. What is the average price of a home per \"view\" rating, rounded to two decimal places,\n",
    "# having an average home price greater than or equal to $350,000? Order by descending view rating. \n",
    "# Although this is a small dataset, determine the run time for this query.\n",
    "\n",
    "start_time = time.time()\n",
    "\n",
    "query4 = spark.sql(\"\"\"SELECT\n",
    "                        view,\n",
    "                        ROUND(AVG(price),2) AS avg_price\n",
    "                     From\n",
    "                         home_sales\n",
    "                     GROUP BY\n",
    "                         view\n",
    "                     HAVING AVG(price) >= 35000\n",
    "                     ORDER BY\n",
    "                         view desc\"\"\")\n",
    "query4.show()\n",
    "\n",
    "print(\"--- %s seconds ---\" % (time.time() - start_time))"
   ]
  },
  {
   "cell_type": "code",
   "execution_count": null,
   "metadata": {},
   "outputs": [],
   "source": [
    "# 7. Cache the the temporary table home_sales.\n",
    "spark.sql(\"cache table home_sales\")"
   ]
  },
  {
   "cell_type": "code",
   "execution_count": null,
   "metadata": {},
   "outputs": [],
   "source": [
    "# 8. Check if the table is cached.\n",
    "spark.catalog.isCached('home_sales')"
   ]
  },
  {
   "cell_type": "code",
   "execution_count": null,
   "metadata": {},
   "outputs": [],
   "source": [
    "# 9. Using the cached data, run the last query above, that calculates \n",
    "# the average price of a home per \"view\" rating, rounded to two decimal places,\n",
    "# having an average home price greater than or equal to $350,000. \n",
    "# Determine the runtime and compare it to the uncached runtime.\n",
    "\n",
    "start_time = time.time()\n",
    "\n",
    "query4 = spark.sql(\"\"\"SELECT\n",
    "                        view,\n",
    "                        ROUND(AVG(price),2) AS avg_price\n",
    "                     From\n",
    "                         home_sales\n",
    "                     GROUP BY\n",
    "                         view\n",
    "                     HAVING AVG(price) >= 35000\n",
    "                     ORDER BY\n",
    "                         view desc\"\"\")\n",
    "query4.show()\n",
    "\n",
    "print(\"--- %s seconds ---\" % (time.time() - start_time))"
   ]
  },
  {
   "cell_type": "code",
   "execution_count": null,
   "metadata": {},
   "outputs": [],
   "source": [
    "# 10. Partition by the \"date_built\" field on the formatted parquet home sales data \n",
    "df.write.parquet('homes_parquet', mode = 'overwrite')"
   ]
  },
  {
   "cell_type": "code",
   "execution_count": null,
   "metadata": {},
   "outputs": [],
   "source": [
    "# 11. Read the formatted parquet data.\n",
    "p_df = spark.read.parquet('homes_parquet')"
   ]
  },
  {
   "cell_type": "code",
   "execution_count": null,
   "metadata": {},
   "outputs": [],
   "source": [
    "# 12. Create a temporary table for the parquet data.\n",
    "p_df.createOrReplaceTempView('p_homes')"
   ]
  },
  {
   "cell_type": "code",
   "execution_count": null,
   "metadata": {},
   "outputs": [],
   "source": [
    "# 13. Using the parquet DataFrame, run the last query above, that calculates \n",
    "# the average price of a home per \"view\" rating, rounded to two decimal places,\n",
    "# having an average home price greater than or equal to $350,000. \n",
    "# Determine the runtime and compare it to the cached runtime.\n",
    "\n",
    "start_time = time.time()\n",
    "\n",
    "query4 = spark.sql(\"\"\"SELECT\n",
    "                        view,\n",
    "                        ROUND(AVG(price),2) AS avg_price\n",
    "                     From\n",
    "                         home_sales\n",
    "                     GROUP BY\n",
    "                         view\n",
    "                     HAVING AVG(price) >= 35000\n",
    "                     ORDER BY\n",
    "                         view desc\"\"\")\n",
    "query4.show()\n",
    "\n",
    "print(\"--- %s seconds ---\" % (time.time() - start_time))"
   ]
  },
  {
   "cell_type": "code",
   "execution_count": null,
   "metadata": {},
   "outputs": [],
   "source": [
    "# 14. Uncache the home_sales temporary table.\n",
    "spark.sql('uncache table home_sales')"
   ]
  },
  {
   "cell_type": "code",
   "execution_count": null,
   "metadata": {},
   "outputs": [],
   "source": [
    "# 15. Check if the home_sales is no longer cached\n",
    "\n",
    "if spark.catalog.isCached(\"home_sales\"):\n",
    "  print(\"table is till cached\")\n",
    "else:\n",
    "  print(\"all clear\")"
   ]
  }
 ],
 "metadata": {
  "colab": {
   "provenance": []
  },
  "gpuClass": "standard",
  "kernelspec": {
   "display_name": "Python 3 (ipykernel)",
   "language": "python",
   "name": "python3"
  },
  "language_info": {
   "codemirror_mode": {
    "name": "ipython",
    "version": 3
   },
   "file_extension": ".py",
   "mimetype": "text/x-python",
   "name": "python",
   "nbconvert_exporter": "python",
   "pygments_lexer": "ipython3",
   "version": "3.10.9"
  },
  "nteract": {
   "version": "0.28.0"
  }
 },
 "nbformat": 4,
 "nbformat_minor": 1
}
